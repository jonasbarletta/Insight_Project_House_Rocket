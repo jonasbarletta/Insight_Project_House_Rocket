{
 "cells": [
  {
   "cell_type": "code",
   "execution_count": 37,
   "id": "8416cc31",
   "metadata": {},
   "outputs": [
    {
     "data": {
      "text/plain": [
       "108335082.89999999"
      ]
     },
     "execution_count": 37,
     "metadata": {},
     "output_type": "execute_result"
    }
   ],
   "source": [
    "import pandas as pd\n",
    "import numpy as np\n",
    "\n",
    "data = pd.read_csv('datasets/kc_house_data_clean.csv')\n",
    "\n",
    "df = data[['zipcode', 'price']].groupby('zipcode').median().reset_index()\n",
    "df1 = data[['zipcode', 'condition']].groupby('zipcode').mean().reset_index()\n",
    "\n",
    "df = df1.merge(df, on='zipcode')\n",
    "df2 = data[['id', 'zipcode', 'price', 'sqft_living', 'sqft_living15', 'sqft_lot', 'sqft_lot15']]\n",
    "df = df2.merge(df, on='zipcode')\n",
    "\n",
    "df = df.rename(columns={'price_y':'median'})\n",
    "df = df.rename(columns={'price_x':'price'})\n",
    "\n",
    "df['status'] = 'Nao Compra'\n",
    "df.loc[(df['price'] < 0.9*df['median']) & \n",
    "       (df['condition'] >= df['condition'].mean()) & \n",
    "       (df['sqft_living'] >= df['sqft_living15']) & \n",
    "       (df['sqft_lot'] >= df['sqft_lot15']), 'status'] = 'Compra'\n",
    "\n",
    "df = df[df['status'] == 'Compra']\n",
    "df.loc[(df['status'] == 'Compra'), 'sell_price'] = df['price'] * 1.3\n",
    "df['profit'] = df[['sell_price', 'price']].apply(lambda x: x[0] - x[1], axis=1)\n",
    "\n",
    "df['profit'].sum()\n"
   ]
  }
 ],
 "metadata": {
  "kernelspec": {
   "display_name": "Python 3 (ipykernel)",
   "language": "python",
   "name": "python3"
  },
  "language_info": {
   "codemirror_mode": {
    "name": "ipython",
    "version": 3
   },
   "file_extension": ".py",
   "mimetype": "text/x-python",
   "name": "python",
   "nbconvert_exporter": "python",
   "pygments_lexer": "ipython3",
   "version": "3.9.7"
  }
 },
 "nbformat": 4,
 "nbformat_minor": 5
}
