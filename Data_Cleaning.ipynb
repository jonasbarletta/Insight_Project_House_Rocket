{
 "cells": [
  {
   "cell_type": "code",
   "execution_count": 1,
   "id": "1649553e",
   "metadata": {},
   "outputs": [],
   "source": [
    "import pandas as pd\n",
    "import numpy as np"
   ]
  },
  {
   "cell_type": "code",
   "execution_count": null,
   "id": "c4a301d0",
   "metadata": {},
   "outputs": [],
   "source": [
    "def get_data(path):\n",
    "    data = pd.read_csv(path)\n",
    "    return data\n",
    "\n",
    "def clean_data(data):\n",
    "    '''\n",
    "    Foram identificados alguns imóveis duplicados. \n",
    "    Tais imóveis foram colocados a venda em uma determinada data e depois colocados a venda em outra data com um preço maior. \n",
    "    Nesse caso, desconsideraremos a primeira aprição desse imóveis no dataset.\n",
    "    Também desconsideraremos um dos imóveis que possui um número muito alto de quartos com relação ao seu tamanho.\n",
    "    '''\n",
    "    df = data[data.duplicated('id')]\n",
    "    data = data.drop_duplicates('id', keep='last', ignore_index=True)\n",
    "    \n",
    "    # para excluir a linha cujo imóvel possui 33 quartos:\n",
    "    a = data.index[data['bedrooms'] == 33].tolist()\n",
    "    data = data.drop(a[0]).reset_index()\n",
    "    data = data.drop(columns='index')\n",
    "    \n",
    "    return data\n",
    "\n",
    "data = get_data('datasets/kc_house_data.csv')\n",
    "\n",
    "clean_data(data)\n",
    "\n",
    "data.to_csv('datasets/kc_house_data_clean.csv', index=False)"
   ]
  }
 ],
 "metadata": {
  "kernelspec": {
   "display_name": "Python 3 (ipykernel)",
   "language": "python",
   "name": "python3"
  },
  "language_info": {
   "codemirror_mode": {
    "name": "ipython",
    "version": 3
   },
   "file_extension": ".py",
   "mimetype": "text/x-python",
   "name": "python",
   "nbconvert_exporter": "python",
   "pygments_lexer": "ipython3",
   "version": "3.9.7"
  }
 },
 "nbformat": 4,
 "nbformat_minor": 5
}
